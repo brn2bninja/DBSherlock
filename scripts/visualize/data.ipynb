{
 "cells": [
  {
   "cell_type": "code",
   "execution_count": 3,
   "metadata": {},
   "outputs": [],
   "source": [
    "import logging\n",
    "from typing import *\n",
    "\n",
    "logger = logging.getLogger(\"DataVisualizer\")"
   ]
  },
  {
   "cell_type": "code",
   "execution_count": 4,
   "metadata": {},
   "outputs": [],
   "source": [
    "import hkkang_utils.file as file_utils\n",
    "from src.data.anomaly_data import AnomalyData, AnomalyDataset\n",
    "\n",
    "# Load data\n",
    "input_path = \"/root/dbsherlock/data/converted_dataset/tpcc_500w_test.json\"\n",
    "data_in_json = file_utils.read_json_file(input_path)\n",
    "anomaly_dataset = AnomalyDataset.from_dict(data=data_in_json)\n",
    "\n",
    "# Group data by causes\n",
    "cause_to_anomaly_data_list = {}\n",
    "for cause in anomaly_dataset.causes:\n",
    "    data_for_cause: List[AnomalyData] = anomaly_dataset.get_data_of_cause(cause)\n",
    "    cause_to_anomaly_data_list[cause] = data_for_cause"
   ]
  },
  {
   "cell_type": "code",
   "execution_count": 5,
   "metadata": {},
   "outputs": [
    {
     "name": "stderr",
     "output_type": "stream",
     "text": [
      "Visualizing cause: Lock Contention: 100%|██████████| 10/10 [04:03<00:00, 24.35s/it]    \n"
     ]
    },
    {
     "data": {
      "text/plain": [
       "<Figure size 640x480 with 0 Axes>"
      ]
     },
     "metadata": {},
     "output_type": "display_data"
    }
   ],
   "source": [
    "import tqdm\n",
    "import os\n",
    "from src.data.visualize import plot_data\n",
    "output_path =\"/root/dbsherlock/results/visualize_data/\"\n",
    "\n",
    "plot_all_data = False\n",
    "\n",
    "# Visualize data\n",
    "pbar_for_cause_data = tqdm.tqdm(cause_to_anomaly_data_list.items())\n",
    "for cause, anomaly_data_list in pbar_for_cause_data:\n",
    "    # Get output path for each cause\n",
    "    output_path_for_cause = os.path.join(output_path, cause.replace(\"/\", \"\"))\n",
    "    # Create plot\n",
    "    pbar_for_cause_data.set_description(f\"Visualizing cause: {cause}\")\n",
    "    if plot_all_data:\n",
    "        pbar_for_instance = tqdm.tqdm(anomaly_data_list)\n",
    "        for data_idx, data in enumerate(pbar_for_instance, total=len(anomaly_data_list)):\n",
    "            pbar_for_instance.set_description(f\"Visualizing instance: {data_idx}\")\n",
    "            plot_data(data, cause=cause, data_id=data_idx, path=output_path_for_cause)\n",
    "    else:\n",
    "        plot_data(anomaly_data_list[0], cause=cause, data_id=0, path=output_path_for_cause)"
   ]
  }
 ],
 "metadata": {
  "kernelspec": {
   "display_name": "Python 3",
   "language": "python",
   "name": "python3"
  },
  "language_info": {
   "codemirror_mode": {
    "name": "ipython",
    "version": 3
   },
   "file_extension": ".py",
   "mimetype": "text/x-python",
   "name": "python",
   "nbconvert_exporter": "python",
   "pygments_lexer": "ipython3",
   "version": "3.11.0"
  }
 },
 "nbformat": 4,
 "nbformat_minor": 2
}
